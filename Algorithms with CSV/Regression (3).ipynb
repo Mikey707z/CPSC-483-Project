{
 "cells": [
  {
   "cell_type": "code",
   "execution_count": 2,
   "metadata": {},
   "outputs": [],
   "source": [
    "feature_names = list()\n",
    "for index in range(1, 4):\n",
    "    feature_names.extend([\"Suit\"+str(index), \"Rank\"+str(index)])\n",
    "\n",
    "feature_names.append('class')\n",
    "\n",
    "\n",
    "training_input_file = os.path.abspath('/Users/jimmynguyen/Desktop/csv/poker-hand-training-true.csv')\n",
    "testing_input_file = os.path.abspath('/Users/jimmynguyen/Desktop/csv/poker-hand-testing.csv')\n",
    "\n",
    "np.random.seed(350)    \n",
    "\n",
    "\n",
    "class myConfigs:\n",
    "    features = 0\n",
    "    classes = 0\n",
    "\n",
    "\n",
    "config = myConfigs()"
   ]
  },
  {
   "cell_type": "code",
   "execution_count": 3,
   "metadata": {},
   "outputs": [],
   "source": [
    "\n",
    "\n",
    "train = pd.read_csv(training_input_file, names=feature_names)\n",
    "test = pd.read_csv(testing_input_file, names=feature_names)\n",
    "\n",
    "\n",
    "config.features = len(train.columns) - 1\n",
    "config.classes = len(set(train['class']))\n",
    "\n",
    "\n",
    "train = train.sample(frac=1).reset_index(drop=True)\n",
    "\n",
    "\n",
    "trainy = np.array(train['class'])\n",
    "trainx = np.array(train.drop('class', 1))\n",
    "\n",
    "testy = np.array(test['class'])\n",
    "testx = np.array(test.drop('class', 1))\n",
    "\n",
    "\n",
    "scaler = StandardScaler()\n",
    "\n",
    "trainset = np.empty(trainx.shape, dtype = float)\n",
    "testset = np.empty(testx.shape, dtype = float)\n",
    "\n",
    "\n",
    "for i in range(len(trainx)):\n",
    "    trainset[i] = trainx[i].astype(float)\n",
    "\n",
    "\n",
    "for i in range(len(testx)):\n",
    "    testset[i] = testx[i].astype(float)\n",
    "\n",
    "scaler.fit(trainset)  \n",
    "\n",
    "\n",
    "datatrain = scaler.transform(trainset)\n",
    "datatest = scaler.transform(testset)\n"
   ]
  },
  {
   "cell_type": "code",
   "execution_count": 4,
   "metadata": {},
   "outputs": [],
   "source": [
    "model = lm.LinearRegression()\n",
    "trainModel = model.fit(trainx, trainy)\n",
    "\n",
    "preds = model.predict(testx)\n"
   ]
  },
  {
   "cell_type": "code",
   "execution_count": 5,
   "metadata": {},
   "outputs": [
    {
     "data": {
      "image/png": "[encoded data removed]",
      "text/plain": [
       "<Figure size 432x288 with 1 Axes>"
      ]
     },
     "metadata": {
      "needs_background": "light"
     },
     "output_type": "display_data"
    },
    {
     "name": "stdout",
     "output_type": "stream",
     "text": [
      "Average error : 0.6183909504554245\n",
      "RMSE : 0.7734471024389038\n"
     ]
    }
   ],
   "source": [
    "plt.plot(testy, 'bD', label='actual')\n",
    "plt.plot(preds, 'yD', label='predicted')\n",
    "plt.legend()\n",
    "plt.show()\n",
    "\n",
    "avg = sum([math.fabs(x-y) for x, y in zip(preds, testy)]) / len(preds)\n",
    "print(\"Average error :\", avg)\n",
    "\n",
    "rms = sum([(x-y)**2 for x, y in zip(preds, testy)]) / len(preds)\n",
    "rms = math.sqrt(rms)\n",
    "print(\"RMSE :\", rms)\n"
   ]
  },
  {
   "cell_type": "code",
   "execution_count": 6,
   "metadata": {},
   "outputs": [
    {
     "name": "stdout",
     "output_type": "stream",
     "text": [
      "+--------+--------+--------+--------+--------+--------+--------+--------+--------+--------+--------+\n",
      "|        | Pred 0 | Pred 1 | Pred 2 | Pred 3 | Pred 4 | Pred 5 | Pred 6 | Pred 7 | Pred 8 | Pred 9 |\n",
      "+--------+--------+--------+--------+--------+--------+--------+--------+--------+--------+--------+\n",
      "| Real 0 |   0    | 501209 |   0    |   0    |   0    |   0    |   0    |   0    |   0    |   0    |\n",
      "| Real 1 |   0    | 422498 |   0    |   0    |   0    |   0    |   0    |   0    |   0    |   0    |\n",
      "| Real 2 |   0    | 47622  |   0    |   0    |   0    |   0    |   0    |   0    |   0    |   0    |\n",
      "| Real 3 |   0    | 21121  |   0    |   0    |   0    |   0    |   0    |   0    |   0    |   0    |\n",
      "| Real 4 |   0    |  3885  |   0    |   0    |   0    |   0    |   0    |   0    |   0    |   0    |\n",
      "| Real 5 |   0    |  1996  |   0    |   0    |   0    |   0    |   0    |   0    |   0    |   0    |\n",
      "| Real 6 |   0    |  1424  |   0    |   0    |   0    |   0    |   0    |   0    |   0    |   0    |\n",
      "| Real 7 |   0    |  230   |   0    |   0    |   0    |   0    |   0    |   0    |   0    |   0    |\n",
      "| Real 8 |   0    |   12   |   0    |   0    |   0    |   0    |   0    |   0    |   0    |   0    |\n",
      "| Real 9 |   0    |   3    |   0    |   0    |   0    |   0    |   0    |   0    |   0    |   0    |\n",
      "+--------+--------+--------+--------+--------+--------+--------+--------+--------+--------+--------+\n",
      "Accuracy : 42.2498\n"
     ]
    }
   ],
   "source": [
    "pred1 = preds\n",
    "conf = [[0] * config.classes for x in range(config.classes)]\n",
    "acc = 0\n",
    "\n",
    "for i in range(len(pred1)):\n",
    "    pred2 = int(round(pred1[i]))\n",
    "    act = int(round(testy[i]))\n",
    "    conf[act][pred2] += 1\n",
    "    if pred2 == act:\n",
    "        acc += 1\n",
    "\n",
    "header = [\"\"]\n",
    "for l in range(config.classes):\n",
    "    header.append(\"Pred \" + str(l))\n",
    "    \n",
    "title = PrettyTable(header)\n",
    "l = 0\n",
    "for c in conf:\n",
    "    title.add_row([\"Real \" + str(l)] + c)\n",
    "    l += 1\n",
    "\n",
    "print(title)\n",
    "print(\"Accuracy :\", acc * 100 / len(pred1))"
   ]
  }
 ],
 "metadata": {
  "kernelspec": {
   "display_name": "Python 3",
   "language": "python",
   "name": "python3"
  },
  "language_info": {
   "codemirror_mode": {
    "name": "ipython",
    "version": 3
   },
   "file_extension": ".py",
   "mimetype": "text/x-python",
   "name": "python",
   "nbconvert_exporter": "python",
   "pygments_lexer": "ipython3",
   "version": "3.7.0"
  }
 },
 "nbformat": 4,
 "nbformat_minor": 2
}
