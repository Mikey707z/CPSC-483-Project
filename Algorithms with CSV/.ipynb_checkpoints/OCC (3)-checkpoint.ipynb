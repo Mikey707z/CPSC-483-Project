{
 "cells": [
  {
   "cell_type": "code",
   "execution_count": 1,
   "metadata": {},
   "outputs": [
    {
     "name": "stderr",
     "output_type": "stream",
     "text": [
      "C:\\Users\\MikeyK\\AppData\\Local\\Continuum\\anaconda3\\lib\\site-packages\\sklearn\\ensemble\\weight_boosting.py:29: DeprecationWarning: numpy.core.umath_tests is an internal NumPy module and should not be imported. It will be removed in a future NumPy release.\n",
      "  from numpy.core.umath_tests import inner1d\n"
     ]
    }
   ],
   "source": [
    "from sklearn.multiclass import OutputCodeClassifier\n",
    "from sklearn.ensemble import BaggingClassifier\n",
    "from sklearn.preprocessing import StandardScaler\n",
    "from sklearn.metrics import accuracy_score\n",
    "from matplotlib import pyplot as plt\n",
    "import numpy as np, pandas as pd, os\n",
    "from prettytable import PrettyTable"
   ]
  },
  {
   "cell_type": "code",
   "execution_count": 2,
   "metadata": {},
   "outputs": [],
   "source": [
    "feature_names = list()\n",
    "for index in range(1, 4):\n",
    "    feature_names.extend([\"Suit\"+str(index), \"Rank\"+str(index)])\n",
    "\n",
    "feature_names.append('class')\n",
    "\n",
    "\n",
    "training_input_file = os.path.abspath('poker-hand-training-true.csv')\n",
    "testing_input_file = os.path.abspath('poker-hand-testing.csv')\n",
    "\n",
    "np.random.seed(350)    \n",
    "\n",
    "\n",
    "class myConfigs:\n",
    "    features = 0\n",
    "    classes = 0\n",
    "\n",
    "\n",
    "config = myConfigs()"
   ]
  },
  {
   "cell_type": "code",
   "execution_count": 3,
   "metadata": {},
   "outputs": [],
   "source": [
    "\n",
    "\n",
    "train = pd.read_csv(training_input_file, names=feature_names)\n",
    "test = pd.read_csv(testing_input_file, names=feature_names)\n",
    "\n",
    "\n",
    "config.features = len(train.columns) - 1\n",
    "config.classes = len(set(train['class']))\n",
    "\n",
    "\n",
    "train = train.sample(frac=1).reset_index(drop=True)\n",
    "\n",
    "\n",
    "trainy = np.array(train['class'])\n",
    "trainx = np.array(train.drop('class', 1))\n",
    "\n",
    "testy = np.array(test['class'])\n",
    "testx = np.array(test.drop('class', 1))\n",
    "\n",
    "\n",
    "scaler = StandardScaler()\n",
    "\n",
    "trainset = np.empty(trainx.shape, dtype = float)\n",
    "testset = np.empty(testx.shape, dtype = float)\n",
    "\n",
    "\n",
    "for i in range(len(trainx)):\n",
    "    trainset[i] = trainx[i].astype(float)\n",
    "\n",
    "\n",
    "for i in range(len(testx)):\n",
    "    testset[i] = testx[i].astype(float)\n",
    "\n",
    "scaler.fit(trainset)  \n",
    "\n",
    "\n",
    "datatrain = scaler.transform(trainset)\n",
    "datatest = scaler.transform(testset)\n"
   ]
  },
  {
   "cell_type": "code",
   "execution_count": 4,
   "metadata": {},
   "outputs": [],
   "source": [
    "occ = OutputCodeClassifier(BaggingClassifier())\n",
    "occ.fit(datatrain, trainy)\n",
    "pred = occ.predict(datatest)\n",
    "accuracy = accuracy_score(testy, pred)"
   ]
  },
  {
   "cell_type": "code",
   "execution_count": 5,
   "metadata": {},
   "outputs": [
    {
     "name": "stdout",
     "output_type": "stream",
     "text": [
      "Accuracy : 53.143\n"
     ]
    },
    {
     "data": {
      "image/png": "[encoded data removed]",
      "text/plain": [
       "<Figure size 432x288 with 1 Axes>"
      ]
     },
     "metadata": {
      "needs_background": "light"
     },
     "output_type": "display_data"
    }
   ],
   "source": [
    "print(\"Accuracy :\", round(accuracy * 100, 3))\n",
    "plt.plot(testy, 'bD', label = \"Original\")\n",
    "plt.plot(pred, 'yD', label = \"Predicted\")\n",
    "plt.legend()\n",
    "plt.show()\n"
   ]
  },
  {
   "cell_type": "code",
   "execution_count": 6,
   "metadata": {},
   "outputs": [
    {
     "name": "stdout",
     "output_type": "stream",
     "text": [
      "+--------+--------+--------+--------+--------+--------+--------+--------+--------+--------+--------+\n",
      "|        | Pred 0 | Pred 1 | Pred 2 | Pred 3 | Pred 4 | Pred 5 | Pred 6 | Pred 7 | Pred 8 | Pred 9 |\n",
      "+--------+--------+--------+--------+--------+--------+--------+--------+--------+--------+--------+\n",
      "| Real 0 | 328077 | 167229 |  3236  |  922   |  360   |  320   |   0    |  956   |   31   |   78   |\n",
      "| Real 1 | 206545 | 200133 | 10088  |  3706  |  249   |  191   |  165   |  1341  |   21   |   59   |\n",
      "| Real 2 | 15170  | 29476  |  1934  |  752   |   14   |   13   |   55   |  204   |   3    |   1    |\n",
      "| Real 3 |  5365  | 13437  |  932   |  1231  |   4    |   4    |   43   |   98   |   3    |   4    |\n",
      "| Real 4 |  2101  |  1692  |   33   |   17   |   22   |   5    |   0    |   11   |   1    |   3    |\n",
      "| Real 5 |  1358  |  584   |   15   |   2    |   0    |   26   |   0    |   7    |   1    |   3    |\n",
      "| Real 6 |  115   |  1140  |   75   |   77   |   0    |   0    |   2    |   14   |   0    |   1    |\n",
      "| Real 7 |   11   |  163   |   11   |   43   |   0    |   0    |   1    |   1    |   0    |   0    |\n",
      "| Real 8 |   4    |   8    |   0    |   0    |   0    |   0    |   0    |   0    |   0    |   0    |\n",
      "| Real 9 |   2    |   1    |   0    |   0    |   0    |   0    |   0    |   0    |   0    |   0    |\n",
      "+--------+--------+--------+--------+--------+--------+--------+--------+--------+--------+--------+\n"
     ]
    }
   ],
   "source": [
    "\n",
    "conf = [[0] * config.classes for x in range(config.classes)]\n",
    "\n",
    "for i in range(len(pred)):\n",
    "    pred1 = pred[i]\n",
    "    act1 = testy[i]\n",
    "    conf[act1][pred1] += 1\n",
    "\n",
    "header = [\"\"]\n",
    "for l in range(config.classes):\n",
    "    header.append(\"Pred \" + str(l))\n",
    "    \n",
    "title = PrettyTable(header)\n",
    "l = 0\n",
    "for c in conf:\n",
    "    title.add_row([\"Real \" + str(l)] + c)\n",
    "    l += 1\n",
    "\n",
    "print(title)"
   ]
  },
  {
   "cell_type": "code",
   "execution_count": null,
   "metadata": {},
   "outputs": [],
   "source": []
  },
  {
   "cell_type": "code",
   "execution_count": null,
   "metadata": {},
   "outputs": [],
   "source": []
  }
 ],
 "metadata": {
  "kernelspec": {
   "display_name": "Python 3",
   "language": "python",
   "name": "python3"
  },
  "language_info": {
   "codemirror_mode": {
    "name": "ipython",
    "version": 3
   },
   "file_extension": ".py",
   "mimetype": "text/x-python",
   "name": "python",
   "nbconvert_exporter": "python",
   "pygments_lexer": "ipython3",
   "version": "3.7.0"
  }
 },
 "nbformat": 4,
 "nbformat_minor": 2
}
