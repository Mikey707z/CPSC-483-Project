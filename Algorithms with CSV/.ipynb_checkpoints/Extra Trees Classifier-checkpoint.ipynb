{
 "cells": [
  {
   "cell_type": "code",
   "execution_count": 7,
   "metadata": {},
   "outputs": [
    {
     "name": "stdout",
     "output_type": "stream",
     "text": [
      "[0.06900605 0.13135704 0.06822384 0.13150496 0.07328889 0.12895805\n",
      " 0.07813575 0.13376058 0.06282592 0.12293892]\n"
     ]
    }
   ],
   "source": [
    "#importing libraries\n",
    "import numpy as n\n",
    "import matplotlib.pyplot as m\n",
    "import pandas as p\n",
    "\n",
    "#loading the dataset\n",
    "dataset = p.read_csv(os.path.abspath('poker-hand-training-true.csv'), sep=',').values\n",
    "\n",
    "#splitting the dataset into the source variables (independant variables) and the target variable (dependant variable)\n",
    "sourcevars = dataset[:,:-1] #all columns except the last one\n",
    "targetvar = dataset[:,len(dataset[0])-1] #only the last column\n",
    "\n",
    "\n",
    "# fit an Extra Trees model to the data\n",
    "model = ExtraTreesClassifier()\n",
    "model.fit(sourcevars , targetvar)\n",
    "# display the relative importance of each attribute\n",
    "print(model.feature_importances_)"
   ]
  },
  {
   "cell_type": "code",
   "execution_count": 14,
   "metadata": {},
   "outputs": [
    {
     "name": "stdout",
     "output_type": "stream",
     "text": [
      "Feature ranking:\n",
      "1. feature 7 (0.133761)\n",
      "2. feature 3 (0.131505)\n",
      "3. feature 1 (0.131357)\n",
      "4. feature 5 (0.128958)\n",
      "5. feature 9 (0.122939)\n",
      "6. feature 6 (0.078136)\n",
      "7. feature 4 (0.073289)\n",
      "8. feature 0 (0.069006)\n",
      "9. feature 2 (0.068224)\n",
      "10. feature 8 (0.062826)\n"
     ]
    },
    {
     "data": {
      "image/png": "[encoded data removed]",
      "text/plain": [
       "<Figure size 432x288 with 1 Axes>"
      ]
     },
     "metadata": {
      "needs_background": "light"
     },
     "output_type": "display_data"
    }
   ],
   "source": [
    "import matplotlib.pyplot as plt\n",
    "importances = model.feature_importances_\n",
    "std = np.std([tree.feature_importances_ for tree in model.estimators_],\n",
    "             axis=0)\n",
    "indices = np.argsort(importances)[::-1]\n",
    "\n",
    "# Print the feature ranking\n",
    "print(\"Feature ranking:\")\n",
    "\n",
    "for f in range(sourcevars.shape[1]):\n",
    "    print(\"%d. feature %d (%f)\" % (f + 1, indices[f], importances[indices[f]]))\n",
    "\n",
    "# Plot the feature importances of the forest\n",
    "plt.figure()\n",
    "plt.title(\"Feature importances\")\n",
    "plt.bar(range(sourcevars.shape[1]), importances[indices],\n",
    "       color=\"r\", yerr=std[indices], align=\"center\")\n",
    "plt.xticks(range(sourcevars.shape[1]), indices)\n",
    "plt.xlim([-1, sourcevars.shape[1]])\n",
    "plt.show()"
   ]
  },
  {
   "cell_type": "code",
   "execution_count": null,
   "metadata": {},
   "outputs": [],
   "source": []
  }
 ],
 "metadata": {
  "kernelspec": {
   "display_name": "Python 3",
   "language": "python",
   "name": "python3"
  },
  "language_info": {
   "codemirror_mode": {
    "name": "ipython",
    "version": 3
   },
   "file_extension": ".py",
   "mimetype": "text/x-python",
   "name": "python",
   "nbconvert_exporter": "python",
   "pygments_lexer": "ipython3",
   "version": "3.7.0"
  }
 },
 "nbformat": 4,
 "nbformat_minor": 2
}
