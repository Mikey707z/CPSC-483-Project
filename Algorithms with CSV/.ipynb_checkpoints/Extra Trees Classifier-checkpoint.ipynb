{
 "cells": [
  {
   "cell_type": "code",
   "execution_count": 6,
   "metadata": {},
   "outputs": [
    {
     "name": "stdout",
     "output_type": "stream",
     "text": [
      "[0.07800445 0.12886634 0.07148462 0.12994142 0.07990354 0.12223302\n",
      " 0.07486126 0.12394583 0.06554526 0.12521426]\n"
     ]
    }
   ],
   "source": [
    "#importing libraries\n",
    "from sklearn.ensemble import ExtraTreesClassifier\n",
    "import matplotlib.pyplot as m\n",
    "import numpy as np, pandas as pd, os\n",
    "#loading the dataset\n",
    "dataset = p.read_csv(os.path.abspath('poker-hand-training-true.csv'), sep=',').values\n",
    "\n",
    "#splitting the dataset into the source variables (independant variables) and the target variable (dependant variable)\n",
    "sourcevars = dataset[:,:-1] #all columns except the last one\n",
    "targetvar = dataset[:,len(dataset[0])-1] #only the last column\n",
    "\n",
    "\n",
    "# fit an Extra Trees model to the data\n",
    "model = ExtraTreesClassifier()\n",
    "model.fit(sourcevars , targetvar)\n",
    "# display the relative importance of each attribute\n",
    "print(model.feature_importances_)"
   ]
  },
  {
   "cell_type": "code",
   "execution_count": 7,
   "metadata": {},
   "outputs": [
    {
     "name": "stdout",
     "output_type": "stream",
     "text": [
      "Feature ranking:\n",
      "1. feature 3 (0.129941)\n",
      "2. feature 1 (0.128866)\n",
      "3. feature 9 (0.125214)\n",
      "4. feature 7 (0.123946)\n",
      "5. feature 5 (0.122233)\n",
      "6. feature 4 (0.079904)\n",
      "7. feature 0 (0.078004)\n",
      "8. feature 6 (0.074861)\n",
      "9. feature 2 (0.071485)\n",
      "10. feature 8 (0.065545)\n"
     ]
    },
    {
     "data": {
      "image/png": "[encoded data removed]",
      "text/plain": [
       "<Figure size 432x288 with 1 Axes>"
      ]
     },
     "metadata": {
      "needs_background": "light"
     },
     "output_type": "display_data"
    }
   ],
   "source": [
    "import matplotlib.pyplot as plt\n",
    "importances = model.feature_importances_\n",
    "std = np.std([tree.feature_importances_ for tree in model.estimators_],\n",
    "             axis=0)\n",
    "indices = np.argsort(importances)[::-1]\n",
    "\n",
    "# Print the feature ranking\n",
    "print(\"Feature ranking:\")\n",
    "\n",
    "for f in range(sourcevars.shape[1]):\n",
    "    print(\"%d. feature %d (%f)\" % (f + 1, indices[f], importances[indices[f]]))\n",
    "\n",
    "# Plot the feature importances of the forest\n",
    "plt.figure()\n",
    "plt.title(\"Feature importances\")\n",
    "plt.bar(range(sourcevars.shape[1]), importances[indices],\n",
    "       color=\"r\", yerr=std[indices], align=\"center\")\n",
    "plt.xticks(range(sourcevars.shape[1]), indices)\n",
    "plt.xlim([-1, sourcevars.shape[1]])\n",
    "plt.show()"
   ]
  },
  {
   "cell_type": "code",
   "execution_count": null,
   "metadata": {},
   "outputs": [],
   "source": []
  }
 ],
 "metadata": {
  "kernelspec": {
   "display_name": "Python 3",
   "language": "python",
   "name": "python3"
  },
  "language_info": {
   "codemirror_mode": {
    "name": "ipython",
    "version": 3
   },
   "file_extension": ".py",
   "mimetype": "text/x-python",
   "name": "python",
   "nbconvert_exporter": "python",
   "pygments_lexer": "ipython3",
   "version": "3.7.0"
  }
 },
 "nbformat": 4,
 "nbformat_minor": 2
}
