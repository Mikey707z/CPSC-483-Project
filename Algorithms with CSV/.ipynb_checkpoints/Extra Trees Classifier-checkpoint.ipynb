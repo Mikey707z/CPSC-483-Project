{
 "cells": [
  {
   "cell_type": "code",
   "execution_count": 7,
   "metadata": {},
   "outputs": [
    {
     "name": "stdout",
     "output_type": "stream",
     "text": [
      "[0.06900605 0.13135704 0.06822384 0.13150496 0.07328889 0.12895805\n",
      " 0.07813575 0.13376058 0.06282592 0.12293892]\n"
     ]
    }
   ],
   "source": [
    "#importing libraries\n",
    "import numpy as n\n",
    "import matplotlib.pyplot as m\n",
    "import pandas as p\n",
    "\n",
    "#loading the dataset\n",
    "dataset = p.read_csv(os.path.abspath('poker-hand-training-true.csv'), sep=',').values\n",
    "\n",
    "#splitting the dataset into the source variables (independant variables) and the target variable (dependant variable)\n",
    "sourcevars = dataset[:,:-1] #all columns except the last one\n",
    "targetvar = dataset[:,len(dataset[0])-1] #only the last column\n",
    "\n",
    "\n",
    "# fit an Extra Trees model to the data\n",
    "model = ExtraTreesClassifier()\n",
    "model.fit(sourcevars , targetvar)\n",
    "# display the relative importance of each attribute\n",
    "print(model.feature_importances_)"
   ]
  },
  {
   "cell_type": "code",
   "execution_count": null,
   "metadata": {},
   "outputs": [],
   "source": []
  }
 ],
 "metadata": {
  "kernelspec": {
   "display_name": "Python 3",
   "language": "python",
   "name": "python3"
  },
  "language_info": {
   "codemirror_mode": {
    "name": "ipython",
    "version": 3
   },
   "file_extension": ".py",
   "mimetype": "text/x-python",
   "name": "python",
   "nbconvert_exporter": "python",
   "pygments_lexer": "ipython3",
   "version": "3.7.0"
  }
 },
 "nbformat": 4,
 "nbformat_minor": 2
}
