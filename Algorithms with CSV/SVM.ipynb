{
 "cells": [
  {
   "cell_type": "code",
   "execution_count": 1,
   "metadata": {},
   "outputs": [],
   "source": [
    "from sklearn import svm\n",
    "import numpy as np, pandas as pd, os\n",
    "from prettytable import PrettyTable\n",
    "from matplotlib import pyplot as plt\n",
    "from sklearn.preprocessing import StandardScaler"
   ]
  },
  {
   "cell_type": "code",
   "execution_count": 2,
   "metadata": {},
   "outputs": [],
   "source": [
    "feature_names = list()\n",
    "for index in range(1, 6):\n",
    "    feature_names.extend([\"Suit\"+str(index), \"Rank\"+str(index)])\n",
    "\n",
    "feature_names.append('class')\n",
    "\n",
    "\n",
    "training_input_file = os.path.abspath('poker-hand-training-true.csv')\n",
    "testing_input_file = os.path.abspath('poker-hand-testing.csv')\n",
    "\n",
    "np.random.seed(350)     # seed for reproducible results\n",
    "\n",
    "# To store configs\n",
    "class myConfigs:\n",
    "    features = 0\n",
    "    classes = 0\n",
    "\n",
    "\n",
    "config = myConfigs()"
   ]
  },
  {
   "cell_type": "code",
   "execution_count": 3,
   "metadata": {},
   "outputs": [
    {
     "name": "stdout",
     "output_type": "stream",
     "text": [
      "+----------+-------+\n",
      "|  Config  | Value |\n",
      "+----------+-------+\n",
      "| features |   10  |\n",
      "| classes  |   10  |\n",
      "+----------+-------+\n"
     ]
    }
   ],
   "source": [
    "train_data = pd.read_csv(training_input_file, names=feature_names)\n",
    "test_data = pd.read_csv(testing_input_file, names=feature_names)\n",
    "\n",
    "# Get features of data\n",
    "config.features = len(train_data.columns) - 1\n",
    "config.classes = len(set(train_data['class']))\n",
    "\n",
    "# Shuffle training data\n",
    "train_data = train_data.sample(frac=1).reset_index(drop=True)\n",
    "\n",
    "# Seperate data and classes\n",
    "train_y = np.array(train_data['class'])\n",
    "train_x = np.array(train_data.drop('class', 1))\n",
    "\n",
    "test_y = np.array(test_data['class'])\n",
    "test_x = np.array(test_data.drop('class', 1))\n",
    "\n",
    "if __name__ == '__main__':\n",
    "    tab = PrettyTable(['Config', 'Value'])\n",
    "    configs = vars(config)\n",
    "\n",
    "    for key in configs:\n",
    "        tab.add_row([key, configs[key]])\n",
    "    print(tab)"
   ]
  },
  {
   "cell_type": "code",
   "execution_count": null,
   "metadata": {},
   "outputs": [
    {
     "name": "stdout",
     "output_type": "stream",
     "text": [
      "Generated model! Going to train...\n",
      "Done training! Going to test...\n"
     ]
    }
   ],
   "source": [
    "model = svm.SVC()\n",
    "print(\"Generated model! Going to train...\")\n",
    "\n",
    "# Training\n",
    "model.fit(train_x, train_y)\n",
    "print(\"Done training! Going to test...\")\n",
    "\n",
    "# Testing\n",
    "testLen = len(test_x)\n",
    "predictions = list()\n",
    "for l in range(testLen):\n",
    "    predictions.append(model.predict([test_x[l]])[0])\n",
    "    if l == (testLen // 4) or l == (testLen // 2) or l == ((testLen*3) // 4):\n",
    "        print(\"Quarter done\")\n",
    "\n",
    "print(\"Generated predictions!\")"
   ]
  },
  {
   "cell_type": "code",
   "execution_count": null,
   "metadata": {},
   "outputs": [],
   "source": [
    "import math\n",
    "\n",
    "avgError = sum([math.fabs(x-y) for x, y in zip(predictions, test_y)]) / len(predictions)\n",
    "print(\"Average error :\", avgError)\n",
    "\n",
    "rmsError = sum([(x-y)**2 for x, y in zip(predictions, test_y)]) / len(predictions)\n",
    "rmsError = math.sqrt(rmsError)\n",
    "print(\"RMSE :\", rmsError)"
   ]
  },
  {
   "cell_type": "code",
   "execution_count": null,
   "metadata": {},
   "outputs": [],
   "source": [
    "plt.plot(test_y, 'd', label='actual')\n",
    "plt.plot(predictions, 'yd', label='predicted')\n",
    "plt.legend()\n",
    "plt.show()"
   ]
  },
  {
   "cell_type": "code",
   "execution_count": null,
   "metadata": {},
   "outputs": [],
   "source": [
    "preds = predictions\n",
    "confMat = [[0] * config.classes for x in range(config.classes)]\n",
    "acc = 0\n",
    "\n",
    "for i in range(len(preds)):\n",
    "    predLabel = preds[i]\n",
    "    actLabel = test_y[i]\n",
    "    confMat[actLabel][predLabel] += 1\n",
    "    if predLabel == actLabel:\n",
    "        acc += 1\n",
    "\n",
    "header = [\"\"]\n",
    "for l in range(config.classes):\n",
    "    header.append(\"Pred \" + str(l))\n",
    "    \n",
    "tab = PrettyTable(header)\n",
    "l = 0\n",
    "for c in confMat:\n",
    "    tab.add_row([\"Real \" + str(l)] + c)\n",
    "    l += 1\n",
    "\n",
    "print(tab)\n",
    "print(\"Accuracy :\", acc * 100 / len(preds))"
   ]
  },
  {
   "cell_type": "code",
   "execution_count": null,
   "metadata": {},
   "outputs": [],
   "source": []
  },
  {
   "cell_type": "code",
   "execution_count": null,
   "metadata": {},
   "outputs": [],
   "source": []
  },
  {
   "cell_type": "code",
   "execution_count": null,
   "metadata": {},
   "outputs": [],
   "source": []
  }
 ],
 "metadata": {
  "kernelspec": {
   "display_name": "Python 3",
   "language": "python",
   "name": "python3"
  },
  "language_info": {
   "codemirror_mode": {
    "name": "ipython",
    "version": 3
   },
   "file_extension": ".py",
   "mimetype": "text/x-python",
   "name": "python",
   "nbconvert_exporter": "python",
   "pygments_lexer": "ipython3",
   "version": "3.7.0"
  }
 },
 "nbformat": 4,
 "nbformat_minor": 2
}
