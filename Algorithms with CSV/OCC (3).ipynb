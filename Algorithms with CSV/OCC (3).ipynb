{
 "cells": [
  {
   "cell_type": "code",
   "execution_count": null,
   "metadata": {},
   "outputs": [],
   "source": [
    "from sklearn.multiclass import OutputCodeClassifier\n",
    "from sklearn.ensemble import BaggingClassifier\n",
    "from sklearn.preprocessing import StandardScaler\n",
    "from sklearn.metrics import accuracy_score\n",
    "from matplotlib import pyplot as plt\n",
    "import numpy as np, pandas as pd, os\n",
    "from prettytable import PrettyTable"
   ]
  },
  {
   "cell_type": "code",
   "execution_count": null,
   "metadata": {},
   "outputs": [],
   "source": [
    "feature_names = list()\n",
    "for index in range(1, 4):\n",
    "    feature_names.extend([\"Suit\"+str(index), \"Rank\"+str(index)])\n",
    "\n",
    "feature_names.append('class')\n",
    "\n",
    "\n",
    "training_input_file = os.path.abspath('poker-hand-training-true.csv')\n",
    "testing_input_file = os.path.abspath('poker-hand-testing.csv')\n",
    "\n",
    "np.random.seed(350)    \n",
    "\n",
    "\n",
    "class myConfigs:\n",
    "    features = 0\n",
    "    classes = 0\n",
    "\n",
    "\n",
    "config = myConfigs()"
   ]
  },
  {
   "cell_type": "code",
   "execution_count": null,
   "metadata": {},
   "outputs": [],
   "source": [
    "\n",
    "\n",
    "train = pd.read_csv(training_input_file, names=feature_names)\n",
    "test = pd.read_csv(testing_input_file, names=feature_names)\n",
    "\n",
    "\n",
    "config.features = len(train.columns) - 1\n",
    "config.classes = len(set(train['class']))\n",
    "\n",
    "\n",
    "train = train.sample(frac=1).reset_index(drop=True)\n",
    "\n",
    "\n",
    "trainy = np.array(train['class'])\n",
    "trainx = np.array(train.drop('class', 1))\n",
    "\n",
    "testy = np.array(test['class'])\n",
    "testx = np.array(test.drop('class', 1))\n",
    "\n",
    "\n",
    "scaler = StandardScaler()\n",
    "\n",
    "trainset = np.empty(trainx.shape, dtype = float)\n",
    "testset = np.empty(testx.shape, dtype = float)\n",
    "\n",
    "\n",
    "for i in range(len(trainx)):\n",
    "    trainset[i] = trainx[i].astype(float)\n",
    "\n",
    "\n",
    "for i in range(len(testx)):\n",
    "    testset[i] = testx[i].astype(float)\n",
    "\n",
    "scaler.fit(trainset)  \n",
    "\n",
    "\n",
    "datatrain = scaler.transform(trainset)\n",
    "datatest = scaler.transform(testset)\n"
   ]
  },
  {
   "cell_type": "code",
   "execution_count": null,
   "metadata": {},
   "outputs": [],
   "source": [
    "occ = OutputCodeClassifier(BaggingClassifier())\n",
    "occ.fit(datatrain, trainy)\n",
    "pred = occ.predict(datatest)\n",
    "accuracy = accuracy_score(testy, pred)"
   ]
  },
  {
   "cell_type": "code",
   "execution_count": null,
   "metadata": {},
   "outputs": [],
   "source": [
    "print(\"Accuracy :\", round(accuracy * 100, 3))\n",
    "plt.plot(testy, 'bD', label = \"Original\")\n",
    "plt.plot(pred, 'yD', label = \"Predicted\")\n",
    "plt.legend()\n",
    "plt.show()\n"
   ]
  },
  {
   "cell_type": "code",
   "execution_count": null,
   "metadata": {},
   "outputs": [],
   "source": [
    "\n",
    "conf = [[0] * config.classes for x in range(config.classes)]\n",
    "\n",
    "for i in range(len(pred)):\n",
    "    pred1 = pred[i]\n",
    "    act1 = testy[i]\n",
    "    conf[act1][pred1] += 1\n",
    "\n",
    "header = [\"\"]\n",
    "for l in range(config.classes):\n",
    "    header.append(\"Pred \" + str(l))\n",
    "    \n",
    "title = PrettyTable(header)\n",
    "l = 0\n",
    "for c in conf:\n",
    "    title.add_row([\"Real \" + str(l)] + c)\n",
    "    l += 1\n",
    "\n",
    "print(title)"
   ]
  },
  {
   "cell_type": "code",
   "execution_count": null,
   "metadata": {},
   "outputs": [],
   "source": []
  }
 ],
 "metadata": {
  "kernelspec": {
   "display_name": "Python 3",
   "language": "python",
   "name": "python3"
  },
  "language_info": {
   "codemirror_mode": {
    "name": "ipython",
    "version": 3
   },
   "file_extension": ".py",
   "mimetype": "text/x-python",
   "name": "python",
   "nbconvert_exporter": "python",
   "pygments_lexer": "ipython3",
   "version": "3.7.0"
  }
 },
 "nbformat": 4,
 "nbformat_minor": 2
}
