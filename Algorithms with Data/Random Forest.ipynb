{
 "cells": [
  {
   "cell_type": "code",
   "execution_count": 8,
   "metadata": {},
   "outputs": [],
   "source": [
    "from sklearn.ensemble import RandomForestClassifier\n",
    "from sklearn.preprocessing import StandardScaler\n",
    "from sklearn.metrics import accuracy_score\n",
    "from matplotlib import pyplot as plt\n",
    "import numpy as np, pandas as pd, os\n",
    "from prettytable import PrettyTable"
   ]
  },
  {
   "cell_type": "code",
   "execution_count": 9,
   "metadata": {},
   "outputs": [],
   "source": [
    "feature_names = list()\n",
    "for index in range(1, 6):\n",
    "    feature_names.extend([\"Suit\"+str(index), \"Rank\"+str(index)])\n",
    "\n",
    "feature_names.append('class')\n",
    "\n",
    "\n",
    "training_input_file = os.path.abspath('poker-hand-training-true.csv')\n",
    "testing_input_file = os.path.abspath('poker-hand-testing.csv')\n",
    "\n",
    "\n",
    "np.random.seed(350)     # seed for reproducible results\n",
    "\n",
    "# To store configs\n",
    "class myConfigs:\n",
    "    features = 0\n",
    "    classes = 0\n",
    "\n",
    "\n",
    "config = myConfigs()\n"
   ]
  },
  {
   "cell_type": "code",
   "execution_count": 10,
   "metadata": {},
   "outputs": [],
   "source": [
    "train_data = pd.read_csv(training_input_file, names=feature_names)\n",
    "test_data = pd.read_csv(testing_input_file, names=feature_names)\n",
    "\n",
    "# Get features of data\n",
    "config.features = len(train_data.columns) - 1\n",
    "config.classes = len(set(train_data['class']))\n",
    "\n",
    "# Shuffle training data\n",
    "train_data = train_data.sample(frac=1).reset_index(drop=True)\n",
    "\n",
    "# Seperate data and classes\n",
    "train_y = np.array(train_data['class'])\n",
    "train_x = np.array(train_data.drop('class', 1))\n",
    "\n",
    "test_y = np.array(test_data['class'])\n",
    "test_x = np.array(test_data.drop('class', 1))\n",
    "\n",
    "# Initialise scaler to scale the data\n",
    "scaler = StandardScaler()\n",
    "\n",
    "train_set = np.empty(train_x.shape, dtype = float)\n",
    "test_set = np.empty(test_x.shape, dtype = float)\n",
    "\n",
    "# Make training data suitable for scaling\n",
    "for index in range(len(train_x)):\n",
    "    train_set[index] = train_x[index].astype(float)\n",
    "\n",
    "# Make testing data suitable for scaling\n",
    "for index in range(len(test_x)):\n",
    "    test_set[index] = test_x[index].astype(float)\n",
    "\n",
    "# Fit the training data\n",
    "scaler.fit(train_set)  \n",
    "\n",
    "# Scale the training and testing data w.r.t scaler\n",
    "data_train = scaler.transform(train_set)\n",
    "data_test = scaler.transform(test_set)\n"
   ]
  },
  {
   "cell_type": "code",
   "execution_count": 11,
   "metadata": {},
   "outputs": [],
   "source": [
    "rforest = RandomForestClassifier()\n",
    "rforest.fit(data_train, train_y)\n",
    "\n",
    "prediction = rforest.predict(data_test)\n",
    "accuracy = accuracy_score(test_y, prediction)"
   ]
  },
  {
   "cell_type": "code",
   "execution_count": 12,
   "metadata": {},
   "outputs": [
    {
     "name": "stdout",
     "output_type": "stream",
     "text": [
      "\n",
      "Accuracy using Random Forest Classifier : 56.541 %\n",
      "\n"
     ]
    }
   ],
   "source": [
    "print(\"\\nAccuracy using Random Forest Classifier :\", round(accuracy * 100, 3),\"%\\n\")"
   ]
  },
  {
   "cell_type": "code",
   "execution_count": 13,
   "metadata": {},
   "outputs": [
    {
     "name": "stdout",
     "output_type": "stream",
     "text": [
      "Accuracy : 56.541\n"
     ]
    },
    {
     "data": {
      "image/png": "[encoded data removed]",
      "text/plain": [
       "<Figure size 432x288 with 1 Axes>"
      ]
     },
     "metadata": {
      "needs_background": "light"
     },
     "output_type": "display_data"
    }
   ],
   "source": [
    "print(\"Accuracy :\", round(accuracy * 100, 3))\n",
    "plt.plot(test_y, 'd', label = \"Original\")\n",
    "plt.plot(prediction, 'yd', label = \"Predicted\")\n",
    "plt.legend()\n",
    "plt.show()"
   ]
  },
  {
   "cell_type": "code",
   "execution_count": 14,
   "metadata": {},
   "outputs": [
    {
     "name": "stdout",
     "output_type": "stream",
     "text": [
      "+--------+--------+--------+--------+--------+--------+--------+--------+--------+--------+--------+\n",
      "|        | Pred 0 | Pred 1 | Pred 2 | Pred 3 | Pred 4 | Pred 5 | Pred 6 | Pred 7 | Pred 8 | Pred 9 |\n",
      "+--------+--------+--------+--------+--------+--------+--------+--------+--------+--------+--------+\n",
      "| Real 0 | 376514 | 124200 |  424   |   63   |   4    |   4    |   0    |   0    |   0    |   0    |\n",
      "| Real 1 | 232269 | 187795 |  1976  |  411   |   37   |   5    |   5    |   0    |   0    |   0    |\n",
      "| Real 2 | 17800  | 28806  |  879   |  127   |   4    |   0    |   6    |   0    |   0    |   0    |\n",
      "| Real 3 |  6365  | 14233  |  316   |  203   |   3    |   0    |   1    |   0    |   0    |   0    |\n",
      "| Real 4 |  1102  |  2700  |   62   |   15   |   6    |   0    |   0    |   0    |   0    |   0    |\n",
      "| Real 5 |  1596  |  382   |   1    |   0    |   0    |   16   |   0    |   0    |   1    |   0    |\n",
      "| Real 6 |  255   |  1073  |   74   |   21   |   1    |   0    |   0    |   0    |   0    |   0    |\n",
      "| Real 7 |   22   |  182   |   11   |   14   |   0    |   0    |   1    |   0    |   0    |   0    |\n",
      "| Real 8 |   5    |   7    |   0    |   0    |   0    |   0    |   0    |   0    |   0    |   0    |\n",
      "| Real 9 |   1    |   2    |   0    |   0    |   0    |   0    |   0    |   0    |   0    |   0    |\n",
      "+--------+--------+--------+--------+--------+--------+--------+--------+--------+--------+--------+\n"
     ]
    }
   ],
   "source": [
    "preds = prediction\n",
    "confMat = [[0] * config.classes for x in range(config.classes)]\n",
    "\n",
    "for i in range(len(preds)):\n",
    "    predLabel = preds[i]\n",
    "    actLabel = test_y[i]\n",
    "    confMat[actLabel][predLabel] += 1\n",
    "\n",
    "header = [\"\"]\n",
    "for l in range(config.classes):\n",
    "    header.append(\"Pred \" + str(l))\n",
    "    \n",
    "tab = PrettyTable(header)\n",
    "l = 0\n",
    "for c in confMat:\n",
    "    tab.add_row([\"Real \" + str(l)] + c)\n",
    "    l += 1\n",
    "\n",
    "print(tab)"
   ]
  },
  {
   "cell_type": "code",
   "execution_count": null,
   "metadata": {},
   "outputs": [],
   "source": []
  },
  {
   "cell_type": "code",
   "execution_count": null,
   "metadata": {},
   "outputs": [],
   "source": []
  }
 ],
 "metadata": {
  "kernelspec": {
   "display_name": "Python 3",
   "language": "python",
   "name": "python3"
  },
  "language_info": {
   "codemirror_mode": {
    "name": "ipython",
    "version": 3
   },
   "file_extension": ".py",
   "mimetype": "text/x-python",
   "name": "python",
   "nbconvert_exporter": "python",
   "pygments_lexer": "ipython3",
   "version": "3.7.0"
  }
 },
 "nbformat": 4,
 "nbformat_minor": 2
}
